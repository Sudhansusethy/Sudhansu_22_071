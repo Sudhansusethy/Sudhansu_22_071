{
  "nbformat": 4,
  "nbformat_minor": 0,
  "metadata": {
    "colab": {
      "provenance": [],
      "authorship_tag": "ABX9TyNhF+dniFT/wKlatLgftbKI",
      "include_colab_link": true
    },
    "kernelspec": {
      "name": "python3",
      "display_name": "Python 3"
    },
    "language_info": {
      "name": "python"
    }
  },
  "cells": [
    {
      "cell_type": "markdown",
      "metadata": {
        "id": "view-in-github",
        "colab_type": "text"
      },
      "source": [
        "<a href=\"https://colab.research.google.com/github/Sudhansusethy/Sudhansu_22_071/blob/main/Sudhansu.ipynb\" target=\"_parent\"><img src=\"https://colab.research.google.com/assets/colab-badge.svg\" alt=\"Open In Colab\"/></a>"
      ]
    },
    {
      "cell_type": "code",
      "execution_count": null,
      "metadata": {
        "colab": {
          "base_uri": "https://localhost:8080/"
        },
        "id": "lMuADi52oaTb",
        "outputId": "90a376f5-081b-4bd2-d964-7a48b3b4dcdc"
      },
      "outputs": [
        {
          "output_type": "stream",
          "name": "stdout",
          "text": [
            "Enter b:12\n",
            "Enter h:4\n",
            "Area of a triangle is= 24.0\n",
            "Enter a:5\n",
            "Enter b:5\n",
            "Enter c:6\n",
            "perimter of a triangle is= 150\n"
          ]
        }
      ],
      "source": [
        "# Triangle area\n",
        "b=int(input('Enter b:'))\n",
        "h=int(input('Enter h:'))\n",
        "area=0.5*b*h\n",
        "print('Area of a triangle is=',area)\n",
        "#Triangle perimeter\n",
        "a=int(input('Enter a:'))\n",
        "b=int(input('Enter b:'))\n",
        "c=int(input('Enter c:'))\n",
        "perimeter=a*b*c\n",
        "print('perimter of a triangle is=',perimeter)"
      ]
    },
    {
      "cell_type": "code",
      "source": [
        "# Rectangle area\n",
        "b=int(input('Enter b:'))\n",
        "l=int(input('Enter l:'))\n",
        "area=l*b\n",
        "print('area of a rectangle is=',area)\n",
        "# Rectangle perimeter\n",
        "a=int(input('Enter a:'))\n",
        "b=int(input('Enter b:'))\n",
        "perimeter=2*(a+b)\n",
        "print('perimeter of a rectangle is=',perimeter)"
      ],
      "metadata": {
        "colab": {
          "base_uri": "https://localhost:8080/"
        },
        "id": "KJ27Om-TrKA-",
        "outputId": "bdacf751-f225-4e87-d8f1-dd0ae6ecfaf1"
      },
      "execution_count": null,
      "outputs": [
        {
          "output_type": "stream",
          "name": "stdout",
          "text": [
            "Enter b:6\n",
            "Enter l:7\n",
            "area of a rectangle is= 42\n",
            "Enter a:8\n",
            "Enter b:9\n",
            "perimeter of a rectangle is= 34\n"
          ]
        }
      ]
    },
    {
      "cell_type": "code",
      "source": [
        "# Code volume\n",
        "s=int(input('Enter s:'))\n",
        "volume=s*s*s\n",
        "print('volume of a cube is=',volume)\n",
        "# cube surface area\n",
        "s=int(input('Enter s:'))\n",
        "surface_area=6*s*s\n",
        "print('surface area of a cube is=',surface_area)"
      ],
      "metadata": {
        "colab": {
          "base_uri": "https://localhost:8080/"
        },
        "id": "m-orOxChtGQf",
        "outputId": "91eb79de-524a-449e-d002-ba15ff1cd76e"
      },
      "execution_count": null,
      "outputs": [
        {
          "output_type": "stream",
          "name": "stdout",
          "text": [
            "Enter s:15\n",
            "volume of a cube is= 3375\n",
            "Enter s:17\n",
            "surface area of a cube is= 1734\n"
          ]
        }
      ]
    },
    {
      "cell_type": "code",
      "source": [
        "# Cuboid volume\n",
        "l=int(input('Enter l:'))\n",
        "w=int(input('Enter w:'))\n",
        "h=int(input('Enter h:'))\n",
        "volume=l*w*h\n",
        "print('volume of a cuboid is=',volume)"
      ],
      "metadata": {
        "colab": {
          "base_uri": "https://localhost:8080/"
        },
        "id": "pYeLLcp4uN0D",
        "outputId": "fa0408e6-029e-439d-c840-70c4a5b3a0f6"
      },
      "execution_count": null,
      "outputs": [
        {
          "output_type": "stream",
          "name": "stdout",
          "text": [
            "Enter l:4\n",
            "Enter w:5\n",
            "Enter h:6\n",
            "volume of a cuboid is= 120\n"
          ]
        }
      ]
    },
    {
      "cell_type": "code",
      "source": [
        "# Cuboid surface area\n",
        "l=int(input('Enter l:'))\n",
        "w=int(input('Enter w:'))\n",
        "h=int(input('Enter h:'))\n",
        "surface_area+(2*l*h)+(2*l*w)+(2*w*h)\n",
        "print('surface area of a cubiod is=',surface_area)"
      ],
      "metadata": {
        "colab": {
          "base_uri": "https://localhost:8080/"
        },
        "id": "fvWjlGdovAmg",
        "outputId": "a266aeec-fe76-4878-d456-f65baba52f66"
      },
      "execution_count": null,
      "outputs": [
        {
          "output_type": "stream",
          "name": "stdout",
          "text": [
            "Enter l:8\n",
            "Enter w:6\n",
            "Enter h:3\n",
            "surface area of a cubiod is= 1734\n"
          ]
        }
      ]
    },
    {
      "cell_type": "code",
      "source": [
        "# Regular tetrahedron volume\n",
        "import math\n",
        "b=int(input('Enter b:'))\n",
        "volume=(b*b*b)/(6*math.sqrt(2))\n",
        "print('volume of a regular tetrahedron is=',volume)\n",
        "# Regular tetrahedron surface area\n",
        "b=int(input('Enter b:'))\n",
        "surface_area=math.sqrt(3)*b*b\n",
        "print('surface area of regular tetrahedron is=',surface_area)"
      ],
      "metadata": {
        "colab": {
          "base_uri": "https://localhost:8080/"
        },
        "id": "j6sT6t6_wh-2",
        "outputId": "fc9f513d-c58b-4d5a-a73f-fb2012464d41"
      },
      "execution_count": null,
      "outputs": [
        {
          "output_type": "stream",
          "name": "stdout",
          "text": [
            "Enter b:5\n",
            "volume of a regular tetrahedron is= 14.731391274719739\n",
            "Enter b:3\n",
            "surface area of regular tetrahedron is= 15.588457268119896\n"
          ]
        }
      ]
    },
    {
      "cell_type": "code",
      "source": [
        "# pyramids volume\n",
        "a=int(input('Enter a:'))\n",
        "h=int(input('Enter h:'))\n",
        "volume=0.3*a*h\n",
        "print('volume of apyramid is=',volume)"
      ],
      "metadata": {
        "colab": {
          "base_uri": "https://localhost:8080/"
        },
        "id": "7qTTohQmyHNd",
        "outputId": "d7c974b5-52dd-490e-b6ef-6dd019d136c0"
      },
      "execution_count": null,
      "outputs": [
        {
          "output_type": "stream",
          "name": "stdout",
          "text": [
            "Enter a:3\n",
            "Enter h:4\n",
            "volume of apyramid is= 3.5999999999999996\n"
          ]
        }
      ]
    },
    {
      "cell_type": "code",
      "source": [
        "# Square pyramid volume\n",
        "s=int(input('Enter s:'))\n",
        "h=int(input('Enter h:'))\n",
        "volume=0.3*s*s*h\n",
        "print('volume of a square pyramid is=',volume)\n",
        "# Square pyramid surface area\n",
        "s=int(input('Enter s:'))\n",
        "h=int(input('Enter h:'))\n",
        "surface_area=(s*s)+(2*s*h)\n",
        "print('surface area of a square pyramid is=',surface_area)"
      ],
      "metadata": {
        "id": "aTbYGpHZyxfV",
        "colab": {
          "base_uri": "https://localhost:8080/"
        },
        "outputId": "84cd7836-7407-4659-a7c1-16eed66bee1f"
      },
      "execution_count": null,
      "outputs": [
        {
          "output_type": "stream",
          "name": "stdout",
          "text": [
            "Enter s:4\n",
            "Enter h:5\n",
            "volume of a square pyramid is= 24.0\n",
            "Enter s:3\n",
            "Enter h:5\n",
            "surface area of a square pyramid is= 39\n"
          ]
        }
      ]
    },
    {
      "cell_type": "code",
      "source": [
        "# Prisms volume\n",
        "a=int(input('Enter a:'))\n",
        "h=int(input('Enter h:'))\n",
        "volume=a*h\n",
        "print('volume of a prism is=',volume)\n",
        "# Prism surface area\n",
        "a=int(input('Enter a:'))\n",
        "h=int(input('Enter h:'))\n",
        "p=int(input('Enter p:'))\n",
        "surface_area=2*a+(h*p)\n",
        "print('surface area of a prism is=',surface_area)"
      ],
      "metadata": {
        "colab": {
          "base_uri": "https://localhost:8080/"
        },
        "id": "BPOnxqUg2LCL",
        "outputId": "9172b399-f791-4fcc-dcb4-8c27c017aa75"
      },
      "execution_count": null,
      "outputs": [
        {
          "output_type": "stream",
          "name": "stdout",
          "text": [
            "Enter a:6\n",
            "Enter h:7\n",
            "volume of a prism is= 42\n",
            "Enter a:3\n",
            "Enter h:5\n",
            "Enter p:2\n",
            "surface area of a prism is= 16\n"
          ]
        }
      ]
    },
    {
      "cell_type": "code",
      "source": [],
      "metadata": {
        "id": "2QlXAabW_B3-"
      },
      "execution_count": null,
      "outputs": []
    },
    {
      "cell_type": "code",
      "source": [
        "# Triangular prism volume\n",
        "l=int(input('Enter l:'))\n",
        "b=int(input('Enter b:'))\n",
        "h=int(input('Enter h:'))\n",
        "volume=l*b*h\n",
        "print('volume of a triangular prism is=',volume)\n",
        "# Triangular prism surface area\n",
        "l=int(input('Enter l:'))\n",
        "b=int(input('Enter b:'))\n",
        "h=int(input('Enter h:'))\n",
        "s=int(input('Enter s:'))\n",
        "surface_area=(b*h)+(2*l*s)+(l*b)\n",
        "print('surface area of a triangular prism is=',surface_area)"
      ],
      "metadata": {
        "colab": {
          "base_uri": "https://localhost:8080/"
        },
        "id": "KYm00M4q3uq-",
        "outputId": "86ca1b55-0d3a-4db8-b05c-647435b05933"
      },
      "execution_count": null,
      "outputs": [
        {
          "output_type": "stream",
          "name": "stdout",
          "text": [
            "Enter l:4\n",
            "Enter b:5\n",
            "Enter h:3\n",
            "volume of a triangular prism is= 60\n",
            "Enter l:5\n",
            "Enter b:3\n",
            "Enter h:7\n",
            "Enter s:4\n",
            "surface area of a triangular prism is= 76\n"
          ]
        }
      ]
    },
    {
      "cell_type": "code",
      "source": [
        "# Spheres volume\n",
        "n=int(input('Enter n:'))\n",
        "r=int(input('Enter r:'))\n",
        "volume=4/3*(n*r*r*r)\n",
        "print('volume of a spheres is=',volume)\n",
        "# Spheres surface area\n",
        "n=int(input('Enter n:'))\n",
        "r=int(input('Enter r:'))\n",
        "surface_area=4*n*r*r\n",
        "print('surface area of a spheres is=',surface_area)"
      ],
      "metadata": {
        "colab": {
          "base_uri": "https://localhost:8080/"
        },
        "id": "tCqMBWh866wI",
        "outputId": "f0c5fa13-0d2a-4d3d-c95c-fca4bf3cff52"
      },
      "execution_count": null,
      "outputs": [
        {
          "output_type": "stream",
          "name": "stdout",
          "text": [
            "Enter n:5\n",
            "Enter r:4\n",
            "volume of a spheres is= 426.66666666666663\n",
            "Enter n:7\n",
            "Enter r:6\n",
            "surface area of a spheres is= 1008\n"
          ]
        }
      ]
    },
    {
      "cell_type": "code",
      "source": [
        "# Right circular cone volume\n",
        "n=int(input('Enter n:'))\n",
        "r=int(input('Enter r:'))\n",
        "h=int(input('Enter h:'))\n",
        "volume=1/3*(n*r*r*h)\n",
        "print('volume of atriangular prism is=',volume)\n",
        "# Right circular cone surface area\n",
        "n=int(input('Enter n:'))\n",
        "r=int(input('Enter r:'))\n",
        "s=int(input('Enter s:'))\n",
        "surface_area=n*r*(r+s)\n",
        "print('surface area of right circular cone is=',surface_area)"
      ],
      "metadata": {
        "colab": {
          "base_uri": "https://localhost:8080/"
        },
        "id": "m3fc-yig8kWy",
        "outputId": "788a90ba-c1b7-48b7-81bc-0dfb05ff22a8"
      },
      "execution_count": null,
      "outputs": [
        {
          "output_type": "stream",
          "name": "stdout",
          "text": [
            "Enter n:5\n",
            "Enter r:5\n",
            "Enter h:4\n",
            "volume of atriangular prism is= 166.66666666666666\n",
            "Enter n:4\n",
            "Enter r:6\n",
            "Enter s:7\n",
            "surface area of right circular cone is= 312\n"
          ]
        }
      ]
    },
    {
      "cell_type": "code",
      "source": [
        "# Right cylinder volume\n",
        "n=int(input('Enter n:'))\n",
        "r=int(input('Enter r:'))\n",
        "h=int(input('Enter h:'))\n",
        "volume=n*r*r*h\n",
        "print('volume of a right cylinder is=',volume)\n",
        "# Right cylinder surface area\n",
        "n=int(input('Enter n:'))\n",
        "r=int(input('Enter r:'))\n",
        "h=int(input('Enter h:'))\n",
        "surface_area=2*n*r*(r+h)\n",
        "print('surface area of a right cylinder is=',surface_area)"
      ],
      "metadata": {
        "colab": {
          "base_uri": "https://localhost:8080/"
        },
        "id": "tj-abDNZ_g_-",
        "outputId": "40d76485-7b2a-4c2a-b006-3e851e1e1d1c"
      },
      "execution_count": null,
      "outputs": [
        {
          "output_type": "stream",
          "name": "stdout",
          "text": [
            "Enter n:5\n",
            "Enter r:6\n",
            "Enter h:4\n",
            "volume of a right cylinder is= 720\n",
            "Enter n:2\n",
            "Enter r:4\n",
            "Enter h:7\n",
            "surface area of a right cylinder is= 176\n"
          ]
        }
      ]
    },
    {
      "cell_type": "code",
      "source": [],
      "metadata": {
        "id": "kJIEiFAgl-oL"
      },
      "execution_count": null,
      "outputs": []
    }
  ]
}
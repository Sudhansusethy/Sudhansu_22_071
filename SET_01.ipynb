{
  "nbformat": 4,
  "nbformat_minor": 0,
  "metadata": {
    "colab": {
      "provenance": [],
      "authorship_tag": "ABX9TyO6Q/iHjTASjoRTyh6mPz1g",
      "include_colab_link": true
    },
    "kernelspec": {
      "name": "python3",
      "display_name": "Python 3"
    },
    "language_info": {
      "name": "python"
    }
  },
  "cells": [
    {
      "cell_type": "markdown",
      "metadata": {
        "id": "view-in-github",
        "colab_type": "text"
      },
      "source": [
        "<a href=\"https://colab.research.google.com/github/Sudhansusethy/Sudhansu_22_071/blob/main/SET_01.ipynb\" target=\"_parent\"><img src=\"https://colab.research.google.com/assets/colab-badge.svg\" alt=\"Open In Colab\"/></a>"
      ]
    },
    {
      "cell_type": "code",
      "execution_count": null,
      "metadata": {
        "colab": {
          "base_uri": "https://localhost:8080/"
        },
        "id": "xdI5lfvhiurt",
        "outputId": "0709c8c3-f299-4f23-f626-578cc2623866"
      },
      "outputs": [
        {
          "output_type": "stream",
          "name": "stdout",
          "text": [
            "Enter b = 5\n",
            "Enter h = 8\n",
            "AREA OF TRIANGLE : 20.0\n",
            "Enter a = 4\n",
            "Enter b = 9\n",
            "Enter c = 5\n",
            "PERIMETER OF TRIANGLE : 180\n",
            "Enter l = 78\n",
            "Enter b = 3\n",
            "AREA OF RECTANGLE : 234\n"
          ]
        }
      ],
      "source": [
        "#Triangle area\n",
        "b = int(input('Enter b = '))\n",
        "h = int(input('Enter h = '))\n",
        "area = 0.5*b*h\n",
        "print('AREA OF TRIANGLE :',area)\n",
        "#Triangle perimeter\n",
        "a = int(input('Enter a = '))\n",
        "b = int(input('Enter b = '))\n",
        "c = int(input('Enter c = '))\n",
        "perimeter =a*b*c\n",
        "print('PERIMETER OF TRIANGLE :',perimeter)\n",
        "l = int(input('Enter l = '))\n",
        "b = int(input('Enter b = '))\n",
        "area = l*b\n",
        "print('AREA OF RECTANGLE :',area)"
      ]
    },
    {
      "cell_type": "code",
      "source": [
        "for var in \"ABIT\":\n",
        "  if var ==\"B\":\n",
        "    continue\n",
        "  print(var)"
      ],
      "metadata": {
        "colab": {
          "base_uri": "https://localhost:8080/"
        },
        "id": "yhoM0ulXqYqc",
        "outputId": "d9138e5b-bf06-4443-af12-5ffc02ed4410"
      },
      "execution_count": null,
      "outputs": [
        {
          "output_type": "stream",
          "name": "stdout",
          "text": [
            "A\n",
            "I\n",
            "T\n"
          ]
        }
      ]
    },
    {
      "cell_type": "code",
      "source": [
        "for i in range (10):\n",
        "  print(i)\n",
        "  if i==2:\n",
        "    break"
      ],
      "metadata": {
        "colab": {
          "base_uri": "https://localhost:8080/"
        },
        "id": "zZvBAdLlsLLw",
        "outputId": "affccee1-80c7-45d0-e144-dfb910a5b8ca"
      },
      "execution_count": null,
      "outputs": [
        {
          "output_type": "stream",
          "name": "stdout",
          "text": [
            "0\n",
            "1\n",
            "2\n"
          ]
        }
      ]
    },
    {
      "cell_type": "code",
      "source": [
        "x = abs(-7.6)\n",
        "print(x)"
      ],
      "metadata": {
        "colab": {
          "base_uri": "https://localhost:8080/"
        },
        "id": "LrrB1KxUt0pf",
        "outputId": "fdb5566a-31a8-441c-c958-2858d53736cc"
      },
      "execution_count": null,
      "outputs": [
        {
          "output_type": "stream",
          "name": "stdout",
          "text": [
            "7.6\n"
          ]
        }
      ]
    },
    {
      "cell_type": "code",
      "source": [
        "list = [1,2,3]\n",
        "a = all(list)\n",
        "print(a)"
      ],
      "metadata": {
        "id": "I-CNjUkEu3UO",
        "colab": {
          "base_uri": "https://localhost:8080/"
        },
        "outputId": "4d376fb0-9f5d-497e-df53-0bc3775ab2b6"
      },
      "execution_count": null,
      "outputs": [
        {
          "output_type": "stream",
          "name": "stdout",
          "text": [
            "True\n"
          ]
        }
      ]
    },
    {
      "cell_type": "code",
      "source": [
        "tuple = (0,1,False)\n",
        "a = any(tuple)\n",
        "print(a)\n"
      ],
      "metadata": {
        "colab": {
          "base_uri": "https://localhost:8080/"
        },
        "id": "A4J_X9fcwVPJ",
        "outputId": "5418c74a-e0fb-4ab5-fe67-b531810998b7"
      },
      "execution_count": null,
      "outputs": [
        {
          "output_type": "stream",
          "name": "stdout",
          "text": [
            "True\n"
          ]
        }
      ]
    },
    {
      "cell_type": "code",
      "source": [
        "a = ascii(\"Mostly Såne\")\n",
        "print(a)\n"
      ],
      "metadata": {
        "colab": {
          "base_uri": "https://localhost:8080/"
        },
        "id": "GtP_RyhpxINt",
        "outputId": "8e23aad9-fc15-4236-a114-db8d358b6ba4"
      },
      "execution_count": null,
      "outputs": [
        {
          "output_type": "stream",
          "name": "stdout",
          "text": [
            "'Mostly S\\xe5ne'\n"
          ]
        }
      ]
    },
    {
      "cell_type": "code",
      "source": [
        "a = bin(30)\n",
        "print(a)"
      ],
      "metadata": {
        "colab": {
          "base_uri": "https://localhost:8080/"
        },
        "id": "VhDAE_gPxwF-",
        "outputId": "2032c837-5af2-428a-caa3-896f102324ee"
      },
      "execution_count": null,
      "outputs": [
        {
          "output_type": "stream",
          "name": "stdout",
          "text": [
            "0b11110\n"
          ]
        }
      ]
    },
    {
      "cell_type": "code",
      "source": [
        "def show():\n",
        "  print('Hello CSE')\n",
        "\n",
        "show()"
      ],
      "metadata": {
        "colab": {
          "base_uri": "https://localhost:8080/"
        },
        "id": "sn2qBDzIzHlA",
        "outputId": "361e582b-cca0-42da-a951-d28fb9b78e90"
      },
      "execution_count": null,
      "outputs": [
        {
          "output_type": "stream",
          "name": "stdout",
          "text": [
            "Hello CSE\n"
          ]
        }
      ]
    },
    {
      "cell_type": "code",
      "source": [
        "def ADD(a,b):\n",
        "  c = a + b\n",
        "  print('SUM OF TWO NOS. :',c)\n",
        "ADD(19,71)"
      ],
      "metadata": {
        "colab": {
          "base_uri": "https://localhost:8080/"
        },
        "id": "gPMz66C5zoPZ",
        "outputId": "92a46381-1d46-417d-9c4a-2f8c6a0dd90c"
      },
      "execution_count": null,
      "outputs": [
        {
          "output_type": "stream",
          "name": "stdout",
          "text": [
            "SUM OF TWO NOS. : 90\n"
          ]
        }
      ]
    },
    {
      "cell_type": "code",
      "source": [
        "def ADD(a,b):\n",
        "  c = a + b\n",
        "  print('SUM OF TWO NOS. :',c)\n",
        "p=int(input(\"Enter 1st nos.\"))\n",
        "q=int(input(\"Enter 2nd nos.\"))\n",
        "ADD(p,q)"
      ],
      "metadata": {
        "colab": {
          "base_uri": "https://localhost:8080/"
        },
        "id": "d6QO4sAI0UWk",
        "outputId": "bf651853-33f9-42a7-8348-e5aee12ae5fd"
      },
      "execution_count": null,
      "outputs": [
        {
          "output_type": "stream",
          "name": "stdout",
          "text": [
            "Enter 1st nos.19\n",
            "Enter 2nd nos.71\n",
            "SUM OF TWO NOS. : 90\n"
          ]
        }
      ]
    },
    {
      "cell_type": "code",
      "source": [
        "def sumofn(n):\n",
        "    s = 0\n",
        "    for i in range(1, n+1):\n",
        "        s += i\n",
        "    return s\n",
        "\n",
        "m = int(input(\"Enter n = \"))\n",
        "print('sum of n = ', sumofn(m))"
      ],
      "metadata": {
        "colab": {
          "base_uri": "https://localhost:8080/"
        },
        "id": "D7HIBfkM1nXQ",
        "outputId": "8e77096b-4213-4d93-b0c5-f6e67ff49efe"
      },
      "execution_count": null,
      "outputs": [
        {
          "output_type": "stream",
          "name": "stdout",
          "text": [
            "Enter n = 19\n",
            "sum of n =  190\n"
          ]
        }
      ]
    },
    {
      "cell_type": "code",
      "source": [
        "def print_pattern(rows):\n",
        "    num = 1\n",
        "    for i in range(1,rows + 1):\n",
        "        for j in range(1,i + 1):\n",
        "            print(num,end=\" \")\n",
        "            num  += 1\n",
        "        print()\n",
        "print_pattern(int(input('Enter rows')))"
      ],
      "metadata": {
        "colab": {
          "base_uri": "https://localhost:8080/"
        },
        "id": "LY9OhpGS4BWC",
        "outputId": "4aa665fc-7e12-4a24-cda2-d74815e55a5b"
      },
      "execution_count": null,
      "outputs": [
        {
          "output_type": "stream",
          "name": "stdout",
          "text": [
            "Enter rows6\n",
            "1 \n",
            "2 3 \n",
            "4 5 6 \n",
            "7 8 9 10 \n",
            "11 12 13 14 15 \n",
            "16 17 18 19 20 21 \n"
          ]
        }
      ]
    },
    {
      "cell_type": "code",
      "source": [
        "list=['P','Y','T','H','O','N']\n",
        "print(list)"
      ],
      "metadata": {
        "colab": {
          "base_uri": "https://localhost:8080/"
        },
        "id": "Ylc4Xwq6_TGC",
        "outputId": "c57f2e7b-e5db-4b73-d40d-1926ae6774d1"
      },
      "execution_count": null,
      "outputs": [
        {
          "output_type": "stream",
          "name": "stdout",
          "text": [
            "['P', 'Y', 'T', 'H', 'O', 'N']\n"
          ]
        }
      ]
    },
    {
      "cell_type": "code",
      "source": [
        "list=[10,20,30,40,50,60,70,80,90]\n",
        "print(list[2:3])"
      ],
      "metadata": {
        "colab": {
          "base_uri": "https://localhost:8080/"
        },
        "id": "4FrVBwxV_QW_",
        "outputId": "49b41c50-c1ec-41b1-c8bf-b6239481c0bb"
      },
      "execution_count": null,
      "outputs": [
        {
          "output_type": "stream",
          "name": "stdout",
          "text": [
            "[30]\n"
          ]
        }
      ]
    },
    {
      "cell_type": "code",
      "source": [
        "list=[10,20,30,40,50,60,70,80,90]\n",
        "print(list[4:])"
      ],
      "metadata": {
        "colab": {
          "base_uri": "https://localhost:8080/"
        },
        "id": "qWFVgDx8ByDv",
        "outputId": "a23275c1-1b4b-46c2-afba-6250a5487306"
      },
      "execution_count": null,
      "outputs": [
        {
          "output_type": "stream",
          "name": "stdout",
          "text": [
            "[50, 60, 70, 80, 90]\n"
          ]
        }
      ]
    }
  ]
}